{
 "cells": [
  {
   "cell_type": "code",
   "execution_count": 4,
   "metadata": {},
   "outputs": [
    {
     "name": "stdout",
     "output_type": "stream",
     "text": [
      "['Billy', ' M', ' 4', ' 95', ' 90', ' 4', ' 2', ' 4', ' 3', ' 3', ' Binomial CDFs', ' 94', ' 96', ' Funny', ' no', ' yes']\n"
     ]
    }
   ],
   "source": [
    "import csv\n",
    "with open('student_info.csv') as students:\n",
    "    data=csv.reader(students, delimiter=',')\n",
    "    next(data, None)\n",
    "    for row in data:\n",
    "        print(row)\n",
    "        \n",
    "def gender(personinput):\n",
    "    if personinput == 'M':\n",
    "        his_her = \"his\"\n",
    "        he_she = 'he'\n",
    "        him_her = \"him\"\n",
    "    if personinput == \"F\":\n",
    "        his_her = \"her\"\n",
    "        he_she = 'she'\n",
    "        him_her = \"her\"\n",
    "        \n",
    "def overall(firstsentencegrade):\n",
    "    if firstsentencegrade==1:\n",
    "        return \"{} has had a solid start to the first semester.\".format(name)\n",
    "    if firstsentencegrade==2:\n",
    "        return \"{} \"\n",
    "    if firstsentencegrade==3:\n",
    "        return \n",
    "    if firstsentencegrade==4:\n",
    "        return\n",
    "    if firstsentencegrade==5:\n",
    "        return \n",
    "\n",
    "def effort(effortgrade):\n",
    "    if effortgrade==1:\n",
    "        return(\"{} could put a little more effort into completeing their homework\".format(name))"
   ]
  },
  {
   "cell_type": "code",
   "execution_count": 0,
   "metadata": {},
   "outputs": [],
   "source": []
  }
 ],
 "metadata": {
  "kernelspec": {
   "display_name": "Python 3",
   "language": "python",
   "name": "python3"
  },
  "language_info": {
   "codemirror_mode": {
    "name": "ipython",
    "version": 3
   },
   "file_extension": ".py",
   "mimetype": "text/x-python",
   "name": "python",
   "nbconvert_exporter": "python",
   "pygments_lexer": "ipython3",
   "version": "3.6.1"
  }
 },
 "nbformat": 4,
 "nbformat_minor": 1
}
